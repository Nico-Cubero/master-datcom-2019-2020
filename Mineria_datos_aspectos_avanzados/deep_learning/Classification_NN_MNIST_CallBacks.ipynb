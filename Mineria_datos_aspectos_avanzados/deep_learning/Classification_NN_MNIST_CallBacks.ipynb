{
  "nbformat": 4,
  "nbformat_minor": 0,
  "metadata": {
    "colab": {
      "name": "Classification-NN-MNIST-CallBacks.ipynb",
      "provenance": [],
      "private_outputs": true,
      "collapsed_sections": [],
      "toc_visible": true
    },
    "kernelspec": {
      "display_name": "Python 3",
      "name": "python3"
    }
  },
  "cells": [
    {
      "cell_type": "markdown",
      "metadata": {
        "colab_type": "text",
        "id": "YenH_9hJbFk1"
      },
      "source": [
        "# Clasificacion de MNIST con tf.keras.callbacks"
      ]
    },
    {
      "cell_type": "markdown",
      "metadata": {
        "id": "krciZ09BmiFX",
        "colab_type": "text"
      },
      "source": [
        ""
      ]
    },
    {
      "cell_type": "markdown",
      "metadata": {
        "colab_type": "text",
        "id": "E51yS7iCCaXO"
      },
      "source": [
        "callbacks es una herramiente potente para inter-actuar y controlar  el training de nuestro modelo. El metodo Checkpoint nos permite guardar el mejor modelo (los mejores pesos) basado en el rendimiento sobre el conjunto de validación\n",
        "\n",
        "\n"
      ]
    },
    {
      "cell_type": "code",
      "metadata": {
        "id": "sGuSNuNqVLAw",
        "colab_type": "code",
        "colab": {}
      },
      "source": [
        "# Checkpoint the weights when validation accuracy improves\n",
        "import tensorflow as tf\n",
        "from keras.callbacks import ModelCheckpoint\n",
        "\n",
        "# Load fashion mninst dataset\n",
        "mnist = tf.keras.datasets.fashion_mnist\n",
        "(x_train, y_train),(x_test, y_test) = mnist.load_data()\n",
        "# Scale data\n",
        "x_train, x_test = x_train / 255.0, x_test / 255.0\n",
        "\n",
        "# Build a conv dnn model\n",
        "model = tf.keras.models.Sequential([\n",
        "\ttf.keras.layers.Flatten(input_shape=(28, 28)),\n",
        "\ttf.keras.layers.Dense(512, activation=tf.nn.relu),\n",
        "\ttf.keras.layers.Dense(10, activation=tf.nn.softmax)\n",
        "])\n",
        "\n",
        "# Compile model\n",
        "model.compile(optimizer='adam', \\\n",
        "\t\t\t\tloss='sparse_categorical_crossentropy', \\\n",
        "\t\t\t\tmetrics=['accuracy'])"
      ],
      "execution_count": 0,
      "outputs": []
    },
    {
      "cell_type": "code",
      "metadata": {
        "id": "IwNcY7pOYZxv",
        "colab_type": "code",
        "colab": {}
      },
      "source": [
        "\n",
        "## Checkpoint In the /output folder\n",
        "filepath = \"mnist-cnn-best.hdf5\"\n",
        "\n",
        "f = open( filepath, \"w\")\n",
        "f.write(\"This will be overwritten\")\n",
        "f.close()\n",
        "\n",
        "\n",
        "# Keep only a single checkpoint, the best over test accuracy.\n",
        "checkpoint = ModelCheckpoint(filepath,\n",
        "\t\t\t\t\t\t\tmonitor='val_acc',\n",
        "\t\t\t\t\t\t\tverbose=1,\n",
        "\t\t\t\t\t\t\tsave_best_only=True,\n",
        "\t\t\t\t\t\t\tmode='max')\n",
        "\n",
        "# Train\n",
        "model.fit(x_train, y_train,\n",
        "\t\t\t\tbatch_size=16,\n",
        "\t\t\t\tepochs=10,\n",
        "\t\t\t\tverbose=1,\n",
        "\t\t\t\tvalidation_data=(x_test, y_test),\n",
        "\t\t\t\tcallbacks=[checkpoint])\n",
        "\n",
        "score = model.evaluate(x_test, y_test, verbose=0)\n",
        "print('Test loss:', score[0])\n",
        "print('Test accuracy:', score[1])"
      ],
      "execution_count": 0,
      "outputs": []
    }
  ]
}