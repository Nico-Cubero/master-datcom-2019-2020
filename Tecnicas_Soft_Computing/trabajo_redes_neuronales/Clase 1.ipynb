{
 "cells": [
  {
   "cell_type": "markdown",
   "metadata": {},
   "source": [
    "# Práctica 1. Redes Neuronales Artificiales"
   ]
  },
  {
   "cell_type": "markdown",
   "metadata": {},
   "source": [
    "Análisis y preprocesamiento del dataset [**wine-quality**](http://archive.ics.uci.edu/ml/machine-learning-databases/wine-quality/) y construcción de redes neuronales *Multilayer Perceptron* para predecir el tipo de vino que representa cada instancia (vino tinto o vino blanco).\n",
    "\n",
    "**Autor**: Nicolás Cubero\n",
    "\n",
    "**Fecha**: 16 de Marzo de 2020"
   ]
  },
  {
   "cell_type": "markdown",
   "metadata": {},
   "source": [
    "## Carga de librerías"
   ]
  },
  {
   "cell_type": "code",
   "execution_count": 92,
   "metadata": {
    "scrolled": true
   },
   "outputs": [],
   "source": [
    "import pandas as pd\n",
    "import numpy as np\n",
    "import matplotlib.pyplot as plt\n",
    "from sklearn.model_selection import train_test_split\n",
    "from sklearn.preprocessing import StandardScaler\n",
    "from sklearn.metrics import confusion_matrix, precision_score, recall_score, f1_score, cohen_kappa_score\n",
    "from keras.models import Sequential\n",
    "from keras.layers import Dense"
   ]
  },
  {
   "cell_type": "markdown",
   "metadata": {},
   "source": [
    "## Carga de archivos\n",
    "\n",
    "Procedemos primeramente a cargar los datos desde los ficheros *csv*:"
   ]
  },
  {
   "cell_type": "code",
   "execution_count": 10,
   "metadata": {},
   "outputs": [],
   "source": [
    "# Cargar los datos de los vinos blancos\n",
    "white = pd.read_csv('winequality-white.csv', sep=';')\n",
    "\n",
    "# Cargar los datos de los vinos tinto\n",
    "red = pd.read_csv('winequality-red.csv', sep=';')"
   ]
  },
  {
   "cell_type": "markdown",
   "metadata": {},
   "source": [
    "## Análisis exploratorio de datos\n",
    "\n",
    "En primer lugar, realizamos un breve **análisis exploratorio de datos** para obtener más información de la naturaleza de los datos, así como la distribución de sus variables y las relaciones entre las mismas.\n",
    "\n",
    "Para empezar, analizaremos el aspecto de cada *dataset* y se estudiarán sus estadísticos básicos."
   ]
  },
  {
   "cell_type": "code",
   "execution_count": 12,
   "metadata": {},
   "outputs": [
    {
     "name": "stdout",
     "output_type": "stream",
     "text": [
      "<class 'pandas.core.frame.DataFrame'>\n",
      "RangeIndex: 4898 entries, 0 to 4897\n",
      "Data columns (total 12 columns):\n",
      "fixed acidity           4898 non-null float64\n",
      "volatile acidity        4898 non-null float64\n",
      "citric acid             4898 non-null float64\n",
      "residual sugar          4898 non-null float64\n",
      "chlorides               4898 non-null float64\n",
      "free sulfur dioxide     4898 non-null float64\n",
      "total sulfur dioxide    4898 non-null float64\n",
      "density                 4898 non-null float64\n",
      "pH                      4898 non-null float64\n",
      "sulphates               4898 non-null float64\n",
      "alcohol                 4898 non-null float64\n",
      "quality                 4898 non-null int64\n",
      "dtypes: float64(11), int64(1)\n",
      "memory usage: 459.3 KB\n",
      "\n",
      "<class 'pandas.core.frame.DataFrame'>\n",
      "RangeIndex: 1599 entries, 0 to 1598\n",
      "Data columns (total 12 columns):\n",
      "fixed acidity           1599 non-null float64\n",
      "volatile acidity        1599 non-null float64\n",
      "citric acid             1599 non-null float64\n",
      "residual sugar          1599 non-null float64\n",
      "chlorides               1599 non-null float64\n",
      "free sulfur dioxide     1599 non-null float64\n",
      "total sulfur dioxide    1599 non-null float64\n",
      "density                 1599 non-null float64\n",
      "pH                      1599 non-null float64\n",
      "sulphates               1599 non-null float64\n",
      "alcohol                 1599 non-null float64\n",
      "quality                 1599 non-null int64\n",
      "dtypes: float64(11), int64(1)\n",
      "memory usage: 150.0 KB\n"
     ]
    }
   ],
   "source": [
    "white.info() # Descripción del dataset de vinos blanco\n",
    "print()\n",
    "red.info() # Descripción del dataset de vinos tinto"
   ]
  },
  {
   "cell_type": "markdown",
   "metadata": {},
   "source": [
    "Ambos *datasets* se han cargado con totas sus columnas, de ellas, todas las variables a excepción de *quality*, son variables numéricas reales, mientras que *quality* es la única variable numérica entera del *dataset*.\n",
    "\n",
    "Por otro lado, se aprecia que el *dataset* de vinos blanco presenta 4898 instancias, mientras que el *dataset* de vinos rojos 1599.\n",
    "\n",
    "Comprobamos más detalladamente que los *datasets* no presenten valores perdidos."
   ]
  },
  {
   "cell_type": "code",
   "execution_count": 21,
   "metadata": {},
   "outputs": [
    {
     "name": "stdout",
     "output_type": "stream",
     "text": [
      "\n"
     ]
    },
    {
     "data": {
      "text/plain": [
       "fixed acidity           False\n",
       "volatile acidity        False\n",
       "citric acid             False\n",
       "residual sugar          False\n",
       "chlorides               False\n",
       "free sulfur dioxide     False\n",
       "total sulfur dioxide    False\n",
       "density                 False\n",
       "pH                      False\n",
       "sulphates               False\n",
       "alcohol                 False\n",
       "quality                 False\n",
       "dtype: bool"
      ]
     },
     "execution_count": 21,
     "metadata": {},
     "output_type": "execute_result"
    }
   ],
   "source": [
    "# Comprobar la existencia de valores perdidos en el dataset de vinos blancos\n",
    "white.isnull().any(axis=0)"
   ]
  },
  {
   "cell_type": "code",
   "execution_count": 22,
   "metadata": {},
   "outputs": [
    {
     "data": {
      "text/plain": [
       "fixed acidity           False\n",
       "volatile acidity        False\n",
       "citric acid             False\n",
       "residual sugar          False\n",
       "chlorides               False\n",
       "free sulfur dioxide     False\n",
       "total sulfur dioxide    False\n",
       "density                 False\n",
       "pH                      False\n",
       "sulphates               False\n",
       "alcohol                 False\n",
       "quality                 False\n",
       "dtype: bool"
      ]
     },
     "execution_count": 22,
     "metadata": {},
     "output_type": "execute_result"
    }
   ],
   "source": [
    "# Comprobar la existencia de valores perdidos en el dataset de vinos blancos\n",
    "red.isnull().any(axis=0)"
   ]
  },
  {
   "cell_type": "markdown",
   "metadata": {},
   "source": [
    "Se comprueba, por tanto, que los *datasets* cargados **no presentan valores valores perdidos** en ninguna de sus columnas y que, **los datos se han cargado correctamente** desde los ficheros *csv*."
   ]
  },
  {
   "cell_type": "markdown",
   "metadata": {},
   "source": [
    "Mostramos las primeras 5 filas del *dataset* red:"
   ]
  },
  {
   "cell_type": "code",
   "execution_count": 14,
   "metadata": {},
   "outputs": [
    {
     "data": {
      "text/html": [
       "<div>\n",
       "<style scoped>\n",
       "    .dataframe tbody tr th:only-of-type {\n",
       "        vertical-align: middle;\n",
       "    }\n",
       "\n",
       "    .dataframe tbody tr th {\n",
       "        vertical-align: top;\n",
       "    }\n",
       "\n",
       "    .dataframe thead th {\n",
       "        text-align: right;\n",
       "    }\n",
       "</style>\n",
       "<table border=\"1\" class=\"dataframe\">\n",
       "  <thead>\n",
       "    <tr style=\"text-align: right;\">\n",
       "      <th></th>\n",
       "      <th>fixed acidity</th>\n",
       "      <th>volatile acidity</th>\n",
       "      <th>citric acid</th>\n",
       "      <th>residual sugar</th>\n",
       "      <th>chlorides</th>\n",
       "      <th>free sulfur dioxide</th>\n",
       "      <th>total sulfur dioxide</th>\n",
       "      <th>density</th>\n",
       "      <th>pH</th>\n",
       "      <th>sulphates</th>\n",
       "      <th>alcohol</th>\n",
       "      <th>quality</th>\n",
       "    </tr>\n",
       "  </thead>\n",
       "  <tbody>\n",
       "    <tr>\n",
       "      <th>0</th>\n",
       "      <td>7.0</td>\n",
       "      <td>0.27</td>\n",
       "      <td>0.36</td>\n",
       "      <td>20.7</td>\n",
       "      <td>0.045</td>\n",
       "      <td>45.0</td>\n",
       "      <td>170.0</td>\n",
       "      <td>1.0010</td>\n",
       "      <td>3.00</td>\n",
       "      <td>0.45</td>\n",
       "      <td>8.8</td>\n",
       "      <td>6</td>\n",
       "    </tr>\n",
       "    <tr>\n",
       "      <th>1</th>\n",
       "      <td>6.3</td>\n",
       "      <td>0.30</td>\n",
       "      <td>0.34</td>\n",
       "      <td>1.6</td>\n",
       "      <td>0.049</td>\n",
       "      <td>14.0</td>\n",
       "      <td>132.0</td>\n",
       "      <td>0.9940</td>\n",
       "      <td>3.30</td>\n",
       "      <td>0.49</td>\n",
       "      <td>9.5</td>\n",
       "      <td>6</td>\n",
       "    </tr>\n",
       "    <tr>\n",
       "      <th>2</th>\n",
       "      <td>8.1</td>\n",
       "      <td>0.28</td>\n",
       "      <td>0.40</td>\n",
       "      <td>6.9</td>\n",
       "      <td>0.050</td>\n",
       "      <td>30.0</td>\n",
       "      <td>97.0</td>\n",
       "      <td>0.9951</td>\n",
       "      <td>3.26</td>\n",
       "      <td>0.44</td>\n",
       "      <td>10.1</td>\n",
       "      <td>6</td>\n",
       "    </tr>\n",
       "    <tr>\n",
       "      <th>3</th>\n",
       "      <td>7.2</td>\n",
       "      <td>0.23</td>\n",
       "      <td>0.32</td>\n",
       "      <td>8.5</td>\n",
       "      <td>0.058</td>\n",
       "      <td>47.0</td>\n",
       "      <td>186.0</td>\n",
       "      <td>0.9956</td>\n",
       "      <td>3.19</td>\n",
       "      <td>0.40</td>\n",
       "      <td>9.9</td>\n",
       "      <td>6</td>\n",
       "    </tr>\n",
       "    <tr>\n",
       "      <th>4</th>\n",
       "      <td>7.2</td>\n",
       "      <td>0.23</td>\n",
       "      <td>0.32</td>\n",
       "      <td>8.5</td>\n",
       "      <td>0.058</td>\n",
       "      <td>47.0</td>\n",
       "      <td>186.0</td>\n",
       "      <td>0.9956</td>\n",
       "      <td>3.19</td>\n",
       "      <td>0.40</td>\n",
       "      <td>9.9</td>\n",
       "      <td>6</td>\n",
       "    </tr>\n",
       "  </tbody>\n",
       "</table>\n",
       "</div>"
      ],
      "text/plain": [
       "   fixed acidity  volatile acidity  citric acid  residual sugar  chlorides  \\\n",
       "0            7.0              0.27         0.36            20.7      0.045   \n",
       "1            6.3              0.30         0.34             1.6      0.049   \n",
       "2            8.1              0.28         0.40             6.9      0.050   \n",
       "3            7.2              0.23         0.32             8.5      0.058   \n",
       "4            7.2              0.23         0.32             8.5      0.058   \n",
       "\n",
       "   free sulfur dioxide  total sulfur dioxide  density    pH  sulphates  \\\n",
       "0                 45.0                 170.0   1.0010  3.00       0.45   \n",
       "1                 14.0                 132.0   0.9940  3.30       0.49   \n",
       "2                 30.0                  97.0   0.9951  3.26       0.44   \n",
       "3                 47.0                 186.0   0.9956  3.19       0.40   \n",
       "4                 47.0                 186.0   0.9956  3.19       0.40   \n",
       "\n",
       "   alcohol  quality  \n",
       "0      8.8        6  \n",
       "1      9.5        6  \n",
       "2     10.1        6  \n",
       "3      9.9        6  \n",
       "4      9.9        6  "
      ]
     },
     "execution_count": 14,
     "metadata": {},
     "output_type": "execute_result"
    }
   ],
   "source": [
    "white.head() # Mostrar las primeras filas del dataset white"
   ]
  },
  {
   "cell_type": "markdown",
   "metadata": {},
   "source": [
    "Y las 5 últimas filas del *dataset* red:"
   ]
  },
  {
   "cell_type": "code",
   "execution_count": 15,
   "metadata": {},
   "outputs": [
    {
     "data": {
      "text/html": [
       "<div>\n",
       "<style scoped>\n",
       "    .dataframe tbody tr th:only-of-type {\n",
       "        vertical-align: middle;\n",
       "    }\n",
       "\n",
       "    .dataframe tbody tr th {\n",
       "        vertical-align: top;\n",
       "    }\n",
       "\n",
       "    .dataframe thead th {\n",
       "        text-align: right;\n",
       "    }\n",
       "</style>\n",
       "<table border=\"1\" class=\"dataframe\">\n",
       "  <thead>\n",
       "    <tr style=\"text-align: right;\">\n",
       "      <th></th>\n",
       "      <th>fixed acidity</th>\n",
       "      <th>volatile acidity</th>\n",
       "      <th>citric acid</th>\n",
       "      <th>residual sugar</th>\n",
       "      <th>chlorides</th>\n",
       "      <th>free sulfur dioxide</th>\n",
       "      <th>total sulfur dioxide</th>\n",
       "      <th>density</th>\n",
       "      <th>pH</th>\n",
       "      <th>sulphates</th>\n",
       "      <th>alcohol</th>\n",
       "      <th>quality</th>\n",
       "    </tr>\n",
       "  </thead>\n",
       "  <tbody>\n",
       "    <tr>\n",
       "      <th>1594</th>\n",
       "      <td>6.2</td>\n",
       "      <td>0.600</td>\n",
       "      <td>0.08</td>\n",
       "      <td>2.0</td>\n",
       "      <td>0.090</td>\n",
       "      <td>32.0</td>\n",
       "      <td>44.0</td>\n",
       "      <td>0.99490</td>\n",
       "      <td>3.45</td>\n",
       "      <td>0.58</td>\n",
       "      <td>10.5</td>\n",
       "      <td>5</td>\n",
       "    </tr>\n",
       "    <tr>\n",
       "      <th>1595</th>\n",
       "      <td>5.9</td>\n",
       "      <td>0.550</td>\n",
       "      <td>0.10</td>\n",
       "      <td>2.2</td>\n",
       "      <td>0.062</td>\n",
       "      <td>39.0</td>\n",
       "      <td>51.0</td>\n",
       "      <td>0.99512</td>\n",
       "      <td>3.52</td>\n",
       "      <td>0.76</td>\n",
       "      <td>11.2</td>\n",
       "      <td>6</td>\n",
       "    </tr>\n",
       "    <tr>\n",
       "      <th>1596</th>\n",
       "      <td>6.3</td>\n",
       "      <td>0.510</td>\n",
       "      <td>0.13</td>\n",
       "      <td>2.3</td>\n",
       "      <td>0.076</td>\n",
       "      <td>29.0</td>\n",
       "      <td>40.0</td>\n",
       "      <td>0.99574</td>\n",
       "      <td>3.42</td>\n",
       "      <td>0.75</td>\n",
       "      <td>11.0</td>\n",
       "      <td>6</td>\n",
       "    </tr>\n",
       "    <tr>\n",
       "      <th>1597</th>\n",
       "      <td>5.9</td>\n",
       "      <td>0.645</td>\n",
       "      <td>0.12</td>\n",
       "      <td>2.0</td>\n",
       "      <td>0.075</td>\n",
       "      <td>32.0</td>\n",
       "      <td>44.0</td>\n",
       "      <td>0.99547</td>\n",
       "      <td>3.57</td>\n",
       "      <td>0.71</td>\n",
       "      <td>10.2</td>\n",
       "      <td>5</td>\n",
       "    </tr>\n",
       "    <tr>\n",
       "      <th>1598</th>\n",
       "      <td>6.0</td>\n",
       "      <td>0.310</td>\n",
       "      <td>0.47</td>\n",
       "      <td>3.6</td>\n",
       "      <td>0.067</td>\n",
       "      <td>18.0</td>\n",
       "      <td>42.0</td>\n",
       "      <td>0.99549</td>\n",
       "      <td>3.39</td>\n",
       "      <td>0.66</td>\n",
       "      <td>11.0</td>\n",
       "      <td>6</td>\n",
       "    </tr>\n",
       "  </tbody>\n",
       "</table>\n",
       "</div>"
      ],
      "text/plain": [
       "      fixed acidity  volatile acidity  citric acid  residual sugar  chlorides  \\\n",
       "1594            6.2             0.600         0.08             2.0      0.090   \n",
       "1595            5.9             0.550         0.10             2.2      0.062   \n",
       "1596            6.3             0.510         0.13             2.3      0.076   \n",
       "1597            5.9             0.645         0.12             2.0      0.075   \n",
       "1598            6.0             0.310         0.47             3.6      0.067   \n",
       "\n",
       "      free sulfur dioxide  total sulfur dioxide  density    pH  sulphates  \\\n",
       "1594                 32.0                  44.0  0.99490  3.45       0.58   \n",
       "1595                 39.0                  51.0  0.99512  3.52       0.76   \n",
       "1596                 29.0                  40.0  0.99574  3.42       0.75   \n",
       "1597                 32.0                  44.0  0.99547  3.57       0.71   \n",
       "1598                 18.0                  42.0  0.99549  3.39       0.66   \n",
       "\n",
       "      alcohol  quality  \n",
       "1594     10.5        5  \n",
       "1595     11.2        6  \n",
       "1596     11.0        6  \n",
       "1597     10.2        5  \n",
       "1598     11.0        6  "
      ]
     },
     "execution_count": 15,
     "metadata": {},
     "output_type": "execute_result"
    }
   ],
   "source": [
    "red.tail() # Mostrar las primeras filas del dataset red"
   ]
  },
  {
   "cell_type": "markdown",
   "metadata": {},
   "source": [
    "Por último analizamos los estadísticos básicos de ambos *datasets*:"
   ]
  },
  {
   "cell_type": "code",
   "execution_count": 16,
   "metadata": {},
   "outputs": [
    {
     "data": {
      "text/html": [
       "<div>\n",
       "<style scoped>\n",
       "    .dataframe tbody tr th:only-of-type {\n",
       "        vertical-align: middle;\n",
       "    }\n",
       "\n",
       "    .dataframe tbody tr th {\n",
       "        vertical-align: top;\n",
       "    }\n",
       "\n",
       "    .dataframe thead th {\n",
       "        text-align: right;\n",
       "    }\n",
       "</style>\n",
       "<table border=\"1\" class=\"dataframe\">\n",
       "  <thead>\n",
       "    <tr style=\"text-align: right;\">\n",
       "      <th></th>\n",
       "      <th>fixed acidity</th>\n",
       "      <th>volatile acidity</th>\n",
       "      <th>citric acid</th>\n",
       "      <th>residual sugar</th>\n",
       "      <th>chlorides</th>\n",
       "      <th>free sulfur dioxide</th>\n",
       "      <th>total sulfur dioxide</th>\n",
       "      <th>density</th>\n",
       "      <th>pH</th>\n",
       "      <th>sulphates</th>\n",
       "      <th>alcohol</th>\n",
       "      <th>quality</th>\n",
       "    </tr>\n",
       "  </thead>\n",
       "  <tbody>\n",
       "    <tr>\n",
       "      <th>count</th>\n",
       "      <td>4898.000000</td>\n",
       "      <td>4898.000000</td>\n",
       "      <td>4898.000000</td>\n",
       "      <td>4898.000000</td>\n",
       "      <td>4898.000000</td>\n",
       "      <td>4898.000000</td>\n",
       "      <td>4898.000000</td>\n",
       "      <td>4898.000000</td>\n",
       "      <td>4898.000000</td>\n",
       "      <td>4898.000000</td>\n",
       "      <td>4898.000000</td>\n",
       "      <td>4898.000000</td>\n",
       "    </tr>\n",
       "    <tr>\n",
       "      <th>mean</th>\n",
       "      <td>6.854788</td>\n",
       "      <td>0.278241</td>\n",
       "      <td>0.334192</td>\n",
       "      <td>6.391415</td>\n",
       "      <td>0.045772</td>\n",
       "      <td>35.308085</td>\n",
       "      <td>138.360657</td>\n",
       "      <td>0.994027</td>\n",
       "      <td>3.188267</td>\n",
       "      <td>0.489847</td>\n",
       "      <td>10.514267</td>\n",
       "      <td>5.877909</td>\n",
       "    </tr>\n",
       "    <tr>\n",
       "      <th>std</th>\n",
       "      <td>0.843868</td>\n",
       "      <td>0.100795</td>\n",
       "      <td>0.121020</td>\n",
       "      <td>5.072058</td>\n",
       "      <td>0.021848</td>\n",
       "      <td>17.007137</td>\n",
       "      <td>42.498065</td>\n",
       "      <td>0.002991</td>\n",
       "      <td>0.151001</td>\n",
       "      <td>0.114126</td>\n",
       "      <td>1.230621</td>\n",
       "      <td>0.885639</td>\n",
       "    </tr>\n",
       "    <tr>\n",
       "      <th>min</th>\n",
       "      <td>3.800000</td>\n",
       "      <td>0.080000</td>\n",
       "      <td>0.000000</td>\n",
       "      <td>0.600000</td>\n",
       "      <td>0.009000</td>\n",
       "      <td>2.000000</td>\n",
       "      <td>9.000000</td>\n",
       "      <td>0.987110</td>\n",
       "      <td>2.720000</td>\n",
       "      <td>0.220000</td>\n",
       "      <td>8.000000</td>\n",
       "      <td>3.000000</td>\n",
       "    </tr>\n",
       "    <tr>\n",
       "      <th>25%</th>\n",
       "      <td>6.300000</td>\n",
       "      <td>0.210000</td>\n",
       "      <td>0.270000</td>\n",
       "      <td>1.700000</td>\n",
       "      <td>0.036000</td>\n",
       "      <td>23.000000</td>\n",
       "      <td>108.000000</td>\n",
       "      <td>0.991723</td>\n",
       "      <td>3.090000</td>\n",
       "      <td>0.410000</td>\n",
       "      <td>9.500000</td>\n",
       "      <td>5.000000</td>\n",
       "    </tr>\n",
       "    <tr>\n",
       "      <th>50%</th>\n",
       "      <td>6.800000</td>\n",
       "      <td>0.260000</td>\n",
       "      <td>0.320000</td>\n",
       "      <td>5.200000</td>\n",
       "      <td>0.043000</td>\n",
       "      <td>34.000000</td>\n",
       "      <td>134.000000</td>\n",
       "      <td>0.993740</td>\n",
       "      <td>3.180000</td>\n",
       "      <td>0.470000</td>\n",
       "      <td>10.400000</td>\n",
       "      <td>6.000000</td>\n",
       "    </tr>\n",
       "    <tr>\n",
       "      <th>75%</th>\n",
       "      <td>7.300000</td>\n",
       "      <td>0.320000</td>\n",
       "      <td>0.390000</td>\n",
       "      <td>9.900000</td>\n",
       "      <td>0.050000</td>\n",
       "      <td>46.000000</td>\n",
       "      <td>167.000000</td>\n",
       "      <td>0.996100</td>\n",
       "      <td>3.280000</td>\n",
       "      <td>0.550000</td>\n",
       "      <td>11.400000</td>\n",
       "      <td>6.000000</td>\n",
       "    </tr>\n",
       "    <tr>\n",
       "      <th>max</th>\n",
       "      <td>14.200000</td>\n",
       "      <td>1.100000</td>\n",
       "      <td>1.660000</td>\n",
       "      <td>65.800000</td>\n",
       "      <td>0.346000</td>\n",
       "      <td>289.000000</td>\n",
       "      <td>440.000000</td>\n",
       "      <td>1.038980</td>\n",
       "      <td>3.820000</td>\n",
       "      <td>1.080000</td>\n",
       "      <td>14.200000</td>\n",
       "      <td>9.000000</td>\n",
       "    </tr>\n",
       "  </tbody>\n",
       "</table>\n",
       "</div>"
      ],
      "text/plain": [
       "       fixed acidity  volatile acidity  citric acid  residual sugar  \\\n",
       "count    4898.000000       4898.000000  4898.000000     4898.000000   \n",
       "mean        6.854788          0.278241     0.334192        6.391415   \n",
       "std         0.843868          0.100795     0.121020        5.072058   \n",
       "min         3.800000          0.080000     0.000000        0.600000   \n",
       "25%         6.300000          0.210000     0.270000        1.700000   \n",
       "50%         6.800000          0.260000     0.320000        5.200000   \n",
       "75%         7.300000          0.320000     0.390000        9.900000   \n",
       "max        14.200000          1.100000     1.660000       65.800000   \n",
       "\n",
       "         chlorides  free sulfur dioxide  total sulfur dioxide      density  \\\n",
       "count  4898.000000          4898.000000           4898.000000  4898.000000   \n",
       "mean      0.045772            35.308085            138.360657     0.994027   \n",
       "std       0.021848            17.007137             42.498065     0.002991   \n",
       "min       0.009000             2.000000              9.000000     0.987110   \n",
       "25%       0.036000            23.000000            108.000000     0.991723   \n",
       "50%       0.043000            34.000000            134.000000     0.993740   \n",
       "75%       0.050000            46.000000            167.000000     0.996100   \n",
       "max       0.346000           289.000000            440.000000     1.038980   \n",
       "\n",
       "                pH    sulphates      alcohol      quality  \n",
       "count  4898.000000  4898.000000  4898.000000  4898.000000  \n",
       "mean      3.188267     0.489847    10.514267     5.877909  \n",
       "std       0.151001     0.114126     1.230621     0.885639  \n",
       "min       2.720000     0.220000     8.000000     3.000000  \n",
       "25%       3.090000     0.410000     9.500000     5.000000  \n",
       "50%       3.180000     0.470000    10.400000     6.000000  \n",
       "75%       3.280000     0.550000    11.400000     6.000000  \n",
       "max       3.820000     1.080000    14.200000     9.000000  "
      ]
     },
     "execution_count": 16,
     "metadata": {},
     "output_type": "execute_result"
    }
   ],
   "source": [
    "# Estadísticos básicos de white\n",
    "white.describe()"
   ]
  },
  {
   "cell_type": "code",
   "execution_count": 17,
   "metadata": {},
   "outputs": [
    {
     "data": {
      "text/html": [
       "<div>\n",
       "<style scoped>\n",
       "    .dataframe tbody tr th:only-of-type {\n",
       "        vertical-align: middle;\n",
       "    }\n",
       "\n",
       "    .dataframe tbody tr th {\n",
       "        vertical-align: top;\n",
       "    }\n",
       "\n",
       "    .dataframe thead th {\n",
       "        text-align: right;\n",
       "    }\n",
       "</style>\n",
       "<table border=\"1\" class=\"dataframe\">\n",
       "  <thead>\n",
       "    <tr style=\"text-align: right;\">\n",
       "      <th></th>\n",
       "      <th>fixed acidity</th>\n",
       "      <th>volatile acidity</th>\n",
       "      <th>citric acid</th>\n",
       "      <th>residual sugar</th>\n",
       "      <th>chlorides</th>\n",
       "      <th>free sulfur dioxide</th>\n",
       "      <th>total sulfur dioxide</th>\n",
       "      <th>density</th>\n",
       "      <th>pH</th>\n",
       "      <th>sulphates</th>\n",
       "      <th>alcohol</th>\n",
       "      <th>quality</th>\n",
       "    </tr>\n",
       "  </thead>\n",
       "  <tbody>\n",
       "    <tr>\n",
       "      <th>count</th>\n",
       "      <td>1599.000000</td>\n",
       "      <td>1599.000000</td>\n",
       "      <td>1599.000000</td>\n",
       "      <td>1599.000000</td>\n",
       "      <td>1599.000000</td>\n",
       "      <td>1599.000000</td>\n",
       "      <td>1599.000000</td>\n",
       "      <td>1599.000000</td>\n",
       "      <td>1599.000000</td>\n",
       "      <td>1599.000000</td>\n",
       "      <td>1599.000000</td>\n",
       "      <td>1599.000000</td>\n",
       "    </tr>\n",
       "    <tr>\n",
       "      <th>mean</th>\n",
       "      <td>8.319637</td>\n",
       "      <td>0.527821</td>\n",
       "      <td>0.270976</td>\n",
       "      <td>2.538806</td>\n",
       "      <td>0.087467</td>\n",
       "      <td>15.874922</td>\n",
       "      <td>46.467792</td>\n",
       "      <td>0.996747</td>\n",
       "      <td>3.311113</td>\n",
       "      <td>0.658149</td>\n",
       "      <td>10.422983</td>\n",
       "      <td>5.636023</td>\n",
       "    </tr>\n",
       "    <tr>\n",
       "      <th>std</th>\n",
       "      <td>1.741096</td>\n",
       "      <td>0.179060</td>\n",
       "      <td>0.194801</td>\n",
       "      <td>1.409928</td>\n",
       "      <td>0.047065</td>\n",
       "      <td>10.460157</td>\n",
       "      <td>32.895324</td>\n",
       "      <td>0.001887</td>\n",
       "      <td>0.154386</td>\n",
       "      <td>0.169507</td>\n",
       "      <td>1.065668</td>\n",
       "      <td>0.807569</td>\n",
       "    </tr>\n",
       "    <tr>\n",
       "      <th>min</th>\n",
       "      <td>4.600000</td>\n",
       "      <td>0.120000</td>\n",
       "      <td>0.000000</td>\n",
       "      <td>0.900000</td>\n",
       "      <td>0.012000</td>\n",
       "      <td>1.000000</td>\n",
       "      <td>6.000000</td>\n",
       "      <td>0.990070</td>\n",
       "      <td>2.740000</td>\n",
       "      <td>0.330000</td>\n",
       "      <td>8.400000</td>\n",
       "      <td>3.000000</td>\n",
       "    </tr>\n",
       "    <tr>\n",
       "      <th>25%</th>\n",
       "      <td>7.100000</td>\n",
       "      <td>0.390000</td>\n",
       "      <td>0.090000</td>\n",
       "      <td>1.900000</td>\n",
       "      <td>0.070000</td>\n",
       "      <td>7.000000</td>\n",
       "      <td>22.000000</td>\n",
       "      <td>0.995600</td>\n",
       "      <td>3.210000</td>\n",
       "      <td>0.550000</td>\n",
       "      <td>9.500000</td>\n",
       "      <td>5.000000</td>\n",
       "    </tr>\n",
       "    <tr>\n",
       "      <th>50%</th>\n",
       "      <td>7.900000</td>\n",
       "      <td>0.520000</td>\n",
       "      <td>0.260000</td>\n",
       "      <td>2.200000</td>\n",
       "      <td>0.079000</td>\n",
       "      <td>14.000000</td>\n",
       "      <td>38.000000</td>\n",
       "      <td>0.996750</td>\n",
       "      <td>3.310000</td>\n",
       "      <td>0.620000</td>\n",
       "      <td>10.200000</td>\n",
       "      <td>6.000000</td>\n",
       "    </tr>\n",
       "    <tr>\n",
       "      <th>75%</th>\n",
       "      <td>9.200000</td>\n",
       "      <td>0.640000</td>\n",
       "      <td>0.420000</td>\n",
       "      <td>2.600000</td>\n",
       "      <td>0.090000</td>\n",
       "      <td>21.000000</td>\n",
       "      <td>62.000000</td>\n",
       "      <td>0.997835</td>\n",
       "      <td>3.400000</td>\n",
       "      <td>0.730000</td>\n",
       "      <td>11.100000</td>\n",
       "      <td>6.000000</td>\n",
       "    </tr>\n",
       "    <tr>\n",
       "      <th>max</th>\n",
       "      <td>15.900000</td>\n",
       "      <td>1.580000</td>\n",
       "      <td>1.000000</td>\n",
       "      <td>15.500000</td>\n",
       "      <td>0.611000</td>\n",
       "      <td>72.000000</td>\n",
       "      <td>289.000000</td>\n",
       "      <td>1.003690</td>\n",
       "      <td>4.010000</td>\n",
       "      <td>2.000000</td>\n",
       "      <td>14.900000</td>\n",
       "      <td>8.000000</td>\n",
       "    </tr>\n",
       "  </tbody>\n",
       "</table>\n",
       "</div>"
      ],
      "text/plain": [
       "       fixed acidity  volatile acidity  citric acid  residual sugar  \\\n",
       "count    1599.000000       1599.000000  1599.000000     1599.000000   \n",
       "mean        8.319637          0.527821     0.270976        2.538806   \n",
       "std         1.741096          0.179060     0.194801        1.409928   \n",
       "min         4.600000          0.120000     0.000000        0.900000   \n",
       "25%         7.100000          0.390000     0.090000        1.900000   \n",
       "50%         7.900000          0.520000     0.260000        2.200000   \n",
       "75%         9.200000          0.640000     0.420000        2.600000   \n",
       "max        15.900000          1.580000     1.000000       15.500000   \n",
       "\n",
       "         chlorides  free sulfur dioxide  total sulfur dioxide      density  \\\n",
       "count  1599.000000          1599.000000           1599.000000  1599.000000   \n",
       "mean      0.087467            15.874922             46.467792     0.996747   \n",
       "std       0.047065            10.460157             32.895324     0.001887   \n",
       "min       0.012000             1.000000              6.000000     0.990070   \n",
       "25%       0.070000             7.000000             22.000000     0.995600   \n",
       "50%       0.079000            14.000000             38.000000     0.996750   \n",
       "75%       0.090000            21.000000             62.000000     0.997835   \n",
       "max       0.611000            72.000000            289.000000     1.003690   \n",
       "\n",
       "                pH    sulphates      alcohol      quality  \n",
       "count  1599.000000  1599.000000  1599.000000  1599.000000  \n",
       "mean      3.311113     0.658149    10.422983     5.636023  \n",
       "std       0.154386     0.169507     1.065668     0.807569  \n",
       "min       2.740000     0.330000     8.400000     3.000000  \n",
       "25%       3.210000     0.550000     9.500000     5.000000  \n",
       "50%       3.310000     0.620000    10.200000     6.000000  \n",
       "75%       3.400000     0.730000    11.100000     6.000000  \n",
       "max       4.010000     2.000000    14.900000     8.000000  "
      ]
     },
     "execution_count": 17,
     "metadata": {},
     "output_type": "execute_result"
    }
   ],
   "source": [
    "# Estadísticos básicos de red\n",
    "red.describe()"
   ]
  },
  {
   "cell_type": "markdown",
   "metadata": {},
   "source": [
    "De este análisis preliminar, podemos observar los siguientes aspectos:\n",
    "- El *pH* de los vinos es, fundamentalmente ácido (*pH* es menor que 7). Por su parte, los vinos tintos presentan más ácidez (su media, mediana y valor máximo son algo mayores que los vinos blancos).\n",
    "- El ácido volatil de los vinos blancos se halla comprendido dentro de los límites legales marcados por EEUU. No ocurre lo mismo con los vinos tintos, lo cual nos lleva a pensar que el *dataset* recoge datos de vinos procedentes de otras regiones del mundo.\n",
    "- Los niveles de *alcohol* de ambos vinos y la distribución de esta variable es similar en ambos tipos de vinos."
   ]
  },
  {
   "cell_type": "markdown",
   "metadata": {},
   "source": [
    "## Visualización de los datos\n",
    "\n",
    "En segundo lugar, visualizamos de forma gráfica la distribución de algunas variables de interés:\n",
    "\n",
    "En este sentido, resulta de gran interés analizar la distribución de la variable *alcohol*:"
   ]
  },
  {
   "cell_type": "code",
   "execution_count": 25,
   "metadata": {},
   "outputs": [
    {
     "data": {
      "image/png": "[encoded data removed]",
      "text/plain": [
       "<Figure size 432x288 with 2 Axes>"
      ]
     },
     "metadata": {
      "needs_background": "light"
     },
     "output_type": "display_data"
    }
   ],
   "source": [
    "# Mostramos la variable alcohol\n",
    "fig, ax = plt.subplots(1, 2)\n",
    "\n",
    "# Mostrar histograma de ambos datasets\n",
    "ax[0].hist(white['alcohol'], 15, facecolor='white', ec='black', label='Vino blanco')\n",
    "ax[1].hist(red['alcohol'], 15, facecolor='red', ec='black', label='Vino tinto')\n",
    "\n",
    "ax[0].set_xlabel('Alcohol (% vol)')\n",
    "ax[0].set_ylabel('Frecuencia')\n",
    "ax[1].set_xlabel('Alcohol (% vol)')\n",
    "ax[1].set_ylabel('Frecuencia')\n",
    "\n",
    "fig.suptitle('Frecuencia de cantidades de alcohol en % vol')\n",
    "\n",
    "plt.show()"
   ]
  },
  {
   "cell_type": "markdown",
   "metadata": {},
   "source": [
    "Si bien se observa que ambos tipos de vinos presentan cantidades similares de alcohol, **para el vino tinto, existe una menor cantidad de vinos que presenten un volumen de alcohol superior al 10%**"
   ]
  },
  {
   "cell_type": "markdown",
   "metadata": {},
   "source": [
    "Analizamos ahora la relación entre los sulfatos y la calidad del vino:"
   ]
  },
  {
   "cell_type": "code",
   "execution_count": 29,
   "metadata": {},
   "outputs": [
    {
     "data": {
      "image/png": "[encoded data removed]",
      "text/plain": [
       "<Figure size 432x288 with 2 Axes>"
      ]
     },
     "metadata": {
      "needs_background": "light"
     },
     "output_type": "display_data"
    }
   ],
   "source": [
    "fig, ax = plt.subplots(1, 2)\n",
    "\n",
    "# Mostrar nube de puntos entre el nivel de sulfato y la calidad del vino\n",
    "ax[0].scatter(white['quality'], white['sulphates'], color='white', edgecolors='black', alpha=0.8, lw=0.5)\n",
    "ax[1].scatter(red['quality'], red['sulphates'], color='red', edgecolors='black', alpha=0.8)\n",
    "\n",
    "ax[0].set_title('Vino blanco')\n",
    "ax[1].set_title('Vino tinto')\n",
    "\n",
    "ax[0].set_xlabel('Quality')\n",
    "ax[1].set_xlabel('Quality')\n",
    "\n",
    "ax[0].set_ylabel('Sulphates')\n",
    "ax[1].set_ylabel('Sulphates')\n",
    "\n",
    "ax[0].set_xlim([0, 10])\n",
    "ax[0].set_ylim([0, 2.5])\n",
    "ax[1].set_xlim([0, 10])\n",
    "ax[1].set_ylim([0, 2.5])\n",
    "\n",
    "fig.subplots_adjust(wspace=0.5)\n",
    "fig.suptitle('Cantidad de sulfato por nivel de calidad')\n",
    "\n",
    "plt.show()"
   ]
  },
  {
   "cell_type": "markdown",
   "metadata": {},
   "source": [
    "Se puede apreciar que, a iguales niveles de calidad, el vino tinto presenta mayor cantidad de sulfatos."
   ]
  },
  {
   "cell_type": "markdown",
   "metadata": {},
   "source": [
    "Analizamos la **acidez** de los vinos:"
   ]
  },
  {
   "cell_type": "code",
   "execution_count": 39,
   "metadata": {},
   "outputs": [
    {
     "data": {
      "image/png": "[encoded data removed]",
      "text/plain": [
       "<Figure size 576x288 with 2 Axes>"
      ]
     },
     "metadata": {
      "needs_background": "light"
     },
     "output_type": "display_data"
    }
   ],
   "source": [
    "redlabels = np.unique(red['quality'])\n",
    "whitelabels = np.unique(white['quality'])\n",
    "\n",
    "# Mostrar diagrama de puntos de los niveles de alcohol frente a acidez\n",
    "fig, ax = plt.subplots(1, 2, figsize=(8,4))\n",
    "\n",
    "redcolors = ['tab:blue', 'tab:orange', 'tab:green', 'tab:red',\n",
    "             'tab:purple', 'tab:brown']\n",
    "whitecolors = redcolors + ['tab:gray'] #np.append(redcolors, np.random.rand(1, 4), axis=0)\n",
    "\n",
    "\n",
    "for i in range(len(redcolors)):\n",
    "    redy = red['alcohol'][red['quality'] == redlabels[i]]\n",
    "    redx = red['volatile acidity'][red['quality'] == redlabels[i]]\n",
    "    ax[0].scatter(redx, redy, c=redcolors[i], alpha=0.6)\n",
    "\n",
    "for i in range(len(whitecolors)):\n",
    "    whitey = white['alcohol'][white['quality'] == whitelabels[i]]\n",
    "    whitex = white['volatile acidity'][white['quality'] == whitelabels[i]]\n",
    "    ax[1].scatter(whitex, whitey, c=whitecolors[i], alpha=0.6)\n",
    "\n",
    "ax[0].set_title('Vino tinto')\n",
    "ax[1].set_title('Vino blanco')\n",
    "ax[0].set_xlim([0, 1.7])\n",
    "ax[1].set_xlim([0, 1.7])\n",
    "ax[0].set_ylim([5, 15.5])\n",
    "ax[1].set_ylim([5, 15.5])\n",
    "\n",
    "ax[0].set_xlabel('Volatile Acidity')\n",
    "ax[1].set_xlabel('Volatile Acidity')\n",
    "ax[0].set_ylabel('Alcohol')\n",
    "ax[1].set_ylabel('Alcohol')\n",
    "\n",
    "ax[1].legend(whitelabels, loc='best', bbox_to_anchor=(1.3, 1))\n",
    "\n",
    "fig.subplots_adjust(top=0.85, wspace=0.7)\n",
    "\n",
    "plt.show()"
   ]
  },
  {
   "cell_type": "markdown",
   "metadata": {},
   "source": [
    "En el anterior grafico, se observa que la mayor parte de los vinos de calidad 7 y 8 presentan niveles de ácido volátil inferior a 0.5"
   ]
  },
  {
   "cell_type": "markdown",
   "metadata": {},
   "source": [
    "# Preprocesamiento de Datos\n",
    "\n",
    "Procedemos a unificar los *datasets* y a preprocesarlos para desarrollar modelos de redes neuronales *MLP*"
   ]
  },
  {
   "cell_type": "code",
   "execution_count": 65,
   "metadata": {},
   "outputs": [
    {
     "data": {
      "image/png": "[encoded data removed]",
      "text/plain": [
       "<Figure size 720x720 with 2 Axes>"
      ]
     },
     "metadata": {
      "needs_background": "light"
     },
     "output_type": "display_data"
    }
   ],
   "source": [
    "# Añadir columna \"type\" a los *datasets*\n",
    "red['type'] = 1\n",
    "white['type'] = 0\n",
    "\n",
    "wines = red.append(white, ignore_index=True)\n",
    "\n",
    "# Calcular matriz de correlaciones\n",
    "corr = wines.corr()\n",
    "\n",
    "# Mostrar la matriz de correlaciones\n",
    "fig, ax = plt.subplots(1, 1, figsize=(10,10))\n",
    "cax = ax.matshow(corr)\n",
    "ax.set_xticks(np.arange(len(wines.columns)))\n",
    "ax.set_xticklabels(wines.columns, rotation='vertical')\n",
    "ax.set_yticks(np.arange(len(wines.columns)))\n",
    "ax.set_yticklabels(wines.columns)\n",
    "\n",
    "fig.colorbar(cax)\n",
    "\n",
    "plt.show()\n",
    "#sns.heatmap(corr, xticklabels=corr.columns.values,\n",
    " #          ytick=corr.columns.values)"
   ]
  },
  {
   "cell_type": "markdown",
   "metadata": {},
   "source": [
    "De esta matriz de correlaciones podemos observar fuertes correlaciones lineales entre las variables "
   ]
  },
  {
   "cell_type": "markdown",
   "metadata": {},
   "source": [
    "# Entrenamiento de modelos\n",
    "\n",
    "Una vez analizados y  preprocesados los datos, procedemos a dividir el conjunto de datos en dos subconjuntos: *train* para entrenar los modelos y *test* para validar dichos modelos."
   ]
  },
  {
   "cell_type": "code",
   "execution_count": 78,
   "metadata": {},
   "outputs": [],
   "source": [
    "# Separar los datos de la etiqueta que se pretende predecir\n",
    "X = wines.iloc[:,:11]\n",
    "y = wines.iloc[:,12]\n",
    "\n",
    "# Separar los datos en los conjuntos de train y validation\n",
    "X_train, X_test, y_train, y_test = train_test_split(X, y, test_size=0.33, random_state=42)"
   ]
  },
  {
   "cell_type": "markdown",
   "metadata": {},
   "source": [
    "Todos los atributos de los *datasets* son atributos numéricos. Para evitar que los valores de unos atributos predominen sobre otros, **normalizamos** las variables de los *datasets*:"
   ]
  },
  {
   "cell_type": "code",
   "execution_count": 79,
   "metadata": {},
   "outputs": [],
   "source": [
    "# Utilidad para efectuar la normalización\n",
    "scaler = StandardScaler().fit(X_train)\n",
    "\n",
    "# Normalizar el conjunto de train\n",
    "X_train = scaler.transform(X_train)\n",
    "\n",
    "# Normalizar el conjunto de test\n",
    "X_test = scaler.transform(X_test)"
   ]
  },
  {
   "cell_type": "markdown",
   "metadata": {},
   "source": [
    "Definimos la arquitectura del modelo *MLP* que vamos a emplear:\n",
    "- Capa de entrada de 11 unidades.\n",
    "- Capa oculta de 12 unidades con *RELU* como función de activación.\n",
    "- Capa oculta de 8 unidades con *RELU* como función de activación.\n",
    "- Capa de salida con 1 nodo de salida y función de activación sigmoide"
   ]
  },
  {
   "cell_type": "code",
   "execution_count": 80,
   "metadata": {},
   "outputs": [],
   "source": [
    "def model_MLP():\n",
    "    \n",
    "    \"\"\"Crea un modelo básico MLP con la siguiente estructura:\n",
    "\n",
    "        - Capa de entrada de 11 unidades.\n",
    "        - Capa oculta de 12 unidades con *RELU* como función de activación.\n",
    "        - Capa oculta de 8 unidades con *RELU* como función de activación.\n",
    "        - Capa de salida con 1 nodo de salida y función de activación sigmoide\n",
    "    \"\"\"\n",
    "    \n",
    "    model = Sequential()\n",
    "    \n",
    "    # Añadir primera capa intermedia\n",
    "    model.add(Dense(12, activation='relu', input_shape=(11,)))\n",
    "    \n",
    "    # Añadir segunda capa intermedia\n",
    "    model.add(Dense(8, activation='relu'))\n",
    "    \n",
    "    # Añadir capa de salida\n",
    "    model.add(Dense(1, activation='sigmoid'))\n",
    "    \n",
    "    return model"
   ]
  },
  {
   "cell_type": "markdown",
   "metadata": {},
   "source": [
    "Creamos este modelo y definimos como función de error entropía cruzada binaria (*binary_crossentropy*) empleando como método de ajuste el implementado en el optimizador de Adam:"
   ]
  },
  {
   "cell_type": "code",
   "execution_count": 81,
   "metadata": {},
   "outputs": [
    {
     "name": "stdout",
     "output_type": "stream",
     "text": [
      "Model: \"sequential_2\"\n",
      "_________________________________________________________________\n",
      "Layer (type)                 Output Shape              Param #   \n",
      "=================================================================\n",
      "dense_4 (Dense)              (None, 12)                144       \n",
      "_________________________________________________________________\n",
      "dense_5 (Dense)              (None, 8)                 104       \n",
      "_________________________________________________________________\n",
      "dense_6 (Dense)              (None, 1)                 9         \n",
      "=================================================================\n",
      "Total params: 257\n",
      "Trainable params: 257\n",
      "Non-trainable params: 0\n",
      "_________________________________________________________________\n"
     ]
    }
   ],
   "source": [
    "# Crear el modelo y compilarlo\n",
    "model = model_MLP() # Crear modelo\n",
    "model.compile(loss='binary_crossentropy', optimizer='adam', metrics=['accuracy'])\n",
    "\n",
    "# Mostrar su arquitectura\n",
    "model.summary()"
   ]
  },
  {
   "cell_type": "markdown",
   "metadata": {},
   "source": [
    "Procedemos a ejecutar el entrenamiento:"
   ]
  },
  {
   "cell_type": "code",
   "execution_count": 82,
   "metadata": {},
   "outputs": [
    {
     "name": "stdout",
     "output_type": "stream",
     "text": [
      "Epoch 1/20\n",
      "4352/4352 [==============================] - 25s 6ms/step - loss: 0.0902 - accuracy: 0.9731\n",
      "Epoch 2/20\n",
      "4352/4352 [==============================] - 25s 6ms/step - loss: 0.0320 - accuracy: 0.9924\n",
      "Epoch 3/20\n",
      "4352/4352 [==============================] - 18s 4ms/step - loss: 0.0241 - accuracy: 0.9947\n",
      "Epoch 4/20\n",
      "4352/4352 [==============================] - 8s 2ms/step - loss: 0.0213 - accuracy: 0.9966\n",
      "Epoch 5/20\n",
      "4352/4352 [==============================] - 7s 2ms/step - loss: 0.0173 - accuracy: 0.9961\n",
      "Epoch 6/20\n",
      "4352/4352 [==============================] - 7s 2ms/step - loss: 0.0163 - accuracy: 0.9972\n",
      "Epoch 7/20\n",
      "4352/4352 [==============================] - 7s 2ms/step - loss: 0.0153 - accuracy: 0.9972\n",
      "Epoch 8/20\n",
      "4352/4352 [==============================] - 7s 2ms/step - loss: 0.0164 - accuracy: 0.9975\n",
      "Epoch 9/20\n",
      "4352/4352 [==============================] - 7s 2ms/step - loss: 0.0134 - accuracy: 0.9972\n",
      "Epoch 10/20\n",
      "4352/4352 [==============================] - 7s 2ms/step - loss: 0.0122 - accuracy: 0.9977\n",
      "Epoch 11/20\n",
      "4352/4352 [==============================] - 7s 2ms/step - loss: 0.0132 - accuracy: 0.9975\n",
      "Epoch 12/20\n",
      "4352/4352 [==============================] - 7s 2ms/step - loss: 0.0119 - accuracy: 0.9975\n",
      "Epoch 13/20\n",
      "4352/4352 [==============================] - 7s 2ms/step - loss: 0.0120 - accuracy: 0.9977\n",
      "Epoch 14/20\n",
      "4352/4352 [==============================] - 7s 2ms/step - loss: 0.0117 - accuracy: 0.9979\n",
      "Epoch 15/20\n",
      "4352/4352 [==============================] - 8s 2ms/step - loss: 0.0110 - accuracy: 0.9977\n",
      "Epoch 16/20\n",
      "4352/4352 [==============================] - 8s 2ms/step - loss: 0.0113 - accuracy: 0.9977\n",
      "Epoch 17/20\n",
      "4352/4352 [==============================] - 7s 2ms/step - loss: 0.0111 - accuracy: 0.9977\n",
      "Epoch 18/20\n",
      "4352/4352 [==============================] - 7s 2ms/step - loss: 0.0114 - accuracy: 0.9975\n",
      "Epoch 19/20\n",
      "4352/4352 [==============================] - 7s 2ms/step - loss: 0.0104 - accuracy: 0.9977\n",
      "Epoch 20/20\n",
      "4352/4352 [==============================] - 8s 2ms/step - loss: 0.0096 - accuracy: 0.9979\n"
     ]
    }
   ],
   "source": [
    "history = model.fit(X_train, y_train, epochs=20, batch_size=1, verbose=True)"
   ]
  },
  {
   "cell_type": "markdown",
   "metadata": {},
   "source": [
    "Mostramos la evolución de las métricas *accuracy* y *loss* a lo largo de las *epochs*:"
   ]
  },
  {
   "cell_type": "code",
   "execution_count": 87,
   "metadata": {},
   "outputs": [
    {
     "data": {
      "image/png": "[encoded data removed]",
      "text/plain": [
       "<Figure size 720x432 with 2 Axes>"
      ]
     },
     "metadata": {
      "needs_background": "light"
     },
     "output_type": "display_data"
    }
   ],
   "source": [
    "fig, ax = plt.subplots(1, 2, figsize=(10,6))\n",
    "\n",
    "# Mostrar la evolución del accuracy y loss\n",
    "ax[0].plot(history.history['accuracy'])\n",
    "ax[0].set_xlabel('Epochs')\n",
    "ax[0].set_ylabel('Accuracy')\n",
    "\n",
    "ax[1].plot(history.history['loss'])\n",
    "ax[1].set_xlabel('Epochs')\n",
    "ax[1].set_ylabel('Loss')\n",
    "\n",
    "plt.show()"
   ]
  },
  {
   "cell_type": "markdown",
   "metadata": {},
   "source": [
    "Predecimos las etiquetas del conjunto de test con el modelo elaborado:"
   ]
  },
  {
   "cell_type": "code",
   "execution_count": 91,
   "metadata": {},
   "outputs": [
    {
     "name": "stdout",
     "output_type": "stream",
     "text": [
      "2145/2145 [==============================] - 0s 15us/step\n"
     ]
    },
    {
     "data": {
      "text/plain": [
       "array([0, 1, 0, ..., 0, 0, 0])"
      ]
     },
     "execution_count": 91,
     "metadata": {},
     "output_type": "execute_result"
    }
   ],
   "source": [
    "y_pred = model.predict(X_test, verbose=True)\n",
    "y_pred = (y_pred >= 0.5).astype('int64').squeeze()\n",
    "\n",
    "y_pred"
   ]
  },
  {
   "cell_type": "markdown",
   "metadata": {},
   "source": [
    "Procedemos a evaluar el rendimiento de este modelo mediante el conjunto de *test*:"
   ]
  },
  {
   "cell_type": "code",
   "execution_count": 88,
   "metadata": {},
   "outputs": [
    {
     "name": "stdout",
     "output_type": "stream",
     "text": [
      "2145/2145 [==============================] - 0s 31us/step\n",
      "Loss obtenido en test: 0.026065816510634627\n",
      "Accuracy obtenido en test: 0.9953380227088928\n"
     ]
    }
   ],
   "source": [
    "score = model.evaluate(X_test, y_test, verbose=True)\n",
    "\n",
    "print('Loss obtenido en test: {}'.format(score[0]))\n",
    "print('Accuracy obtenido en test: {}'.format(score[1]))"
   ]
  },
  {
   "cell_type": "markdown",
   "metadata": {},
   "source": [
    "Evaluamos también otras métricas:"
   ]
  },
  {
   "cell_type": "code",
   "execution_count": 94,
   "metadata": {},
   "outputs": [
    {
     "name": "stdout",
     "output_type": "stream",
     "text": [
      "Matriz de confusión:\n",
      "[[1587    1]\n",
      " [   9  548]]\n",
      "Precisión del modelo: 0.9981785063752276\n",
      "Recall del modelo: 0.9838420107719928\n",
      "F1-score del modelo: 0.9909584086799277\n",
      "Métrica Cohen' kappa del modelo: 0.9878179265599869\n"
     ]
    }
   ],
   "source": [
    "# Calcular la matriz de confusión\n",
    "conf = confusion_matrix(y_test, y_pred)\n",
    "\n",
    "print('Matriz de confusión:')\n",
    "print(conf)\n",
    "\n",
    "# Precisión del modelo\n",
    "print('Precisión del modelo: {}'.format(precision_score(y_test, y_pred)))\n",
    "\n",
    "# Recall del modelo\n",
    "print('Recall del modelo: {}'.format(recall_score(y_test, y_pred)))\n",
    "\n",
    "# F1-score del modelo\n",
    "print('F1-score del modelo: {}'.format(f1_score(y_test, y_pred)))\n",
    "\n",
    "# Cohen's kappa del modelo\n",
    "print('Métrica Cohen\\'s kappa del modelo: {}'.format(cohen_kappa_score(y_test, y_pred)))"
   ]
  },
  {
   "cell_type": "markdown",
   "metadata": {},
   "source": [
    "Observamos que el rendimiento del modelo es elevado y logra predecir con mucha exactitud los tipos de vinos"
   ]
  },
  {
   "cell_type": "markdown",
   "metadata": {},
   "source": [
    "# Otras mejoras\n",
    "\n",
    "Por último, se probarán otros modelos diferentes discutiéndose sus rendimientos:"
   ]
  },
  {
   "cell_type": "markdown",
   "metadata": {},
   "source": [
    "1. Modelo con 4 capas intermedias\n",
    "\n",
    "Primeramente, se repetirá el experimento anterior usando otro modelo *MLP* con 4 capas intermedias:\n",
    "- Capa de entrada de 11 unidades.\n",
    "- Capa oculta de 12 unidades con *RELU* como función de activación.\n",
    "- Capa oculta de 8 unidades con *RELU* como función de activación.\n",
    "- Capa oculta de 4 unidades con *RELU* como función de activación.\n",
    "- Capa oculta de 2 unidades con *RELU* como función de activación.\n",
    "- Capa de salida con 1 nodo de salida y función de activación sigmoide"
   ]
  },
  {
   "cell_type": "code",
   "execution_count": 96,
   "metadata": {},
   "outputs": [],
   "source": [
    "def model_deep_MLP():\n",
    "    \n",
    "    \"\"\"Crea un modelo básico MLP con la siguiente estructura:\n",
    "\n",
    "        - Capa de entrada de 11 unidades.\n",
    "        - Capa oculta de 12 unidades con *RELU* como función de activación.\n",
    "        - Capa oculta de 8 unidades con *RELU* como función de activación.\n",
    "        - Capa oculta de 4 unidades con *RELU* como función de activación.\n",
    "        - Capa oculta de 2 unidades con *RELU* como función de activación.\n",
    "        - Capa de salida con 1 nodo de salida y función de activación sigmoide\n",
    "    \"\"\"\n",
    "    \n",
    "    model = Sequential()\n",
    "    \n",
    "    # Añadir primera capa intermedia\n",
    "    model.add(Dense(12, activation='relu', input_shape=(11,)))\n",
    "    \n",
    "    # Añadir segunda capa intermedia\n",
    "    model.add(Dense(8, activation='relu'))\n",
    "\n",
    "    # Añadir tercera capa intermedia\n",
    "    model.add(Dense(4, activation='relu'))\n",
    "\n",
    "     # Añadir cuarta capa intermedia\n",
    "    model.add(Dense(2, activation='relu'))\n",
    "    \n",
    "    # Añadir capa de salida\n",
    "    model.add(Dense(1, activation='sigmoid'))\n",
    "    \n",
    "    return model"
   ]
  },
  {
   "cell_type": "code",
   "execution_count": 101,
   "metadata": {},
   "outputs": [
    {
     "name": "stdout",
     "output_type": "stream",
     "text": [
      "Model: \"sequential_4\"\n",
      "_________________________________________________________________\n",
      "Layer (type)                 Output Shape              Param #   \n",
      "=================================================================\n",
      "dense_12 (Dense)             (None, 12)                144       \n",
      "_________________________________________________________________\n",
      "dense_13 (Dense)             (None, 8)                 104       \n",
      "_________________________________________________________________\n",
      "dense_14 (Dense)             (None, 4)                 36        \n",
      "_________________________________________________________________\n",
      "dense_15 (Dense)             (None, 2)                 10        \n",
      "_________________________________________________________________\n",
      "dense_16 (Dense)             (None, 1)                 3         \n",
      "=================================================================\n",
      "Total params: 297\n",
      "Trainable params: 297\n",
      "Non-trainable params: 0\n",
      "_________________________________________________________________\n"
     ]
    }
   ],
   "source": [
    "# Crear el modelo y compilarlo\n",
    "model_deep = model_deep_MLP() # Crear modelo\n",
    "model_deep.compile(loss='binary_crossentropy', optimizer='adam', metrics=['accuracy'])\n",
    "\n",
    "# Mostrar su arquitectura\n",
    "model_deep.summary()"
   ]
  },
  {
   "cell_type": "markdown",
   "metadata": {},
   "source": [
    "Y procedemos a entrenar y evaluar este modelo:"
   ]
  },
  {
   "cell_type": "code",
   "execution_count": 102,
   "metadata": {},
   "outputs": [
    {
     "name": "stdout",
     "output_type": "stream",
     "text": [
      "Epoch 1/20\n",
      "4352/4352 [==============================] - 9s 2ms/step - loss: 0.1398 - accuracy: 0.9676\n",
      "Epoch 2/20\n",
      "4352/4352 [==============================] - 9s 2ms/step - loss: 0.0301 - accuracy: 0.9936\n",
      "Epoch 3/20\n",
      "4352/4352 [==============================] - 9s 2ms/step - loss: 0.0261 - accuracy: 0.9943\n",
      "Epoch 4/20\n",
      "4352/4352 [==============================] - 10s 2ms/step - loss: 0.0243 - accuracy: 0.9952\n",
      "Epoch 5/20\n",
      "4352/4352 [==============================] - 9s 2ms/step - loss: 0.0225 - accuracy: 0.9947\n",
      "Epoch 6/20\n",
      "4352/4352 [==============================] - 9s 2ms/step - loss: 0.0218 - accuracy: 0.9952\n",
      "Epoch 7/20\n",
      "4352/4352 [==============================] - 9s 2ms/step - loss: 0.0187 - accuracy: 0.9966\n",
      "Epoch 8/20\n",
      "4352/4352 [==============================] - 9s 2ms/step - loss: 0.0171 - accuracy: 0.9963\n",
      "Epoch 9/20\n",
      "4352/4352 [==============================] - 9s 2ms/step - loss: 0.0152 - accuracy: 0.9966\n",
      "Epoch 10/20\n",
      "4352/4352 [==============================] - 9s 2ms/step - loss: 0.0133 - accuracy: 0.9970\n",
      "Epoch 11/20\n",
      "4352/4352 [==============================] - 9s 2ms/step - loss: 0.0138 - accuracy: 0.9961\n",
      "Epoch 12/20\n",
      "4352/4352 [==============================] - 9s 2ms/step - loss: 0.0123 - accuracy: 0.9977\n",
      "Epoch 13/20\n",
      "4352/4352 [==============================] - 9s 2ms/step - loss: 0.0118 - accuracy: 0.9977\n",
      "Epoch 14/20\n",
      "4352/4352 [==============================] - 9s 2ms/step - loss: 0.0103 - accuracy: 0.9982\n",
      "Epoch 15/20\n",
      "4352/4352 [==============================] - 9s 2ms/step - loss: 0.0110 - accuracy: 0.9977\n",
      "Epoch 16/20\n",
      "4352/4352 [==============================] - 9s 2ms/step - loss: 0.0099 - accuracy: 0.9979\n",
      "Epoch 17/20\n",
      "4352/4352 [==============================] - 9s 2ms/step - loss: 0.0096 - accuracy: 0.9975\n",
      "Epoch 18/20\n",
      "4352/4352 [==============================] - 9s 2ms/step - loss: 0.0100 - accuracy: 0.9979\n",
      "Epoch 19/20\n",
      "4352/4352 [==============================] - 9s 2ms/step - loss: 0.0092 - accuracy: 0.9979\n",
      "Epoch 20/20\n",
      "4352/4352 [==============================] - 9s 2ms/step - loss: 0.0127 - accuracy: 0.9972\n",
      "2145/2145 [==============================] - 0s 17us/step\n",
      "2145/2145 [==============================] - 0s 32us/step\n",
      "Loss obtenido en test: 0.029661544758489596\n",
      "Accuracy obtenido en test: 0.9953380227088928\n",
      "Matriz de confusión:\n",
      "[[1586    2]\n",
      " [   8  549]]\n",
      "Precisión del modelo: 0.9963702359346642\n",
      "Recall del modelo: 0.9856373429084381\n",
      "F1-score del modelo: 0.9909747292418774\n",
      "Métrica Cohen's kappa del modelo: 0.9878321759246128\n"
     ]
    }
   ],
   "source": [
    "# Entrenar el modelo deep\n",
    "model_deep.fit(X_train, y_train, epochs=20, batch_size=1, verbose=True)\n",
    "\n",
    "# Evaluar el modelo\n",
    "y_pred = model_deep.predict(X_test, verbose=True)\n",
    "y_pred = (y_pred >= 0.5).astype('int64').squeeze()\n",
    "\n",
    "score = model_deep.evaluate(X_test, y_test, verbose=True)\n",
    "\n",
    "print('Loss obtenido en test: {}'.format(score[0]))\n",
    "print('Accuracy obtenido en test: {}'.format(score[1]))\n",
    "\n",
    "# Calcular la matriz de confusión\n",
    "conf = confusion_matrix(y_test, y_pred)\n",
    "\n",
    "print('Matriz de confusión:')\n",
    "print(conf)\n",
    "\n",
    "# Precisión del modelo\n",
    "print('Precisión del modelo: {}'.format(precision_score(y_test, y_pred)))\n",
    "\n",
    "# Recall del modelo\n",
    "print('Recall del modelo: {}'.format(recall_score(y_test, y_pred)))\n",
    "\n",
    "# F1-score del modelo\n",
    "print('F1-score del modelo: {}'.format(f1_score(y_test, y_pred)))\n",
    "\n",
    "# Cohen's kappa del modelo\n",
    "print('Métrica Cohen\\'s kappa del modelo: {}'.format(cohen_kappa_score(y_test, y_pred)))"
   ]
  },
  {
   "cell_type": "markdown",
   "metadata": {},
   "source": [
    "Se puede apreciar que el modelo de este modelo es similar al modelo original. El incremento en el número de capas no ha producido ningún incremento o empeoramiento en el rendimiento del modelo. Sin embargo, el incremento en el número de capas provoca que el modelo tome 2 segundos más en completar cada *epoch* durante el entrenamiento"
   ]
  },
  {
   "cell_type": "markdown",
   "metadata": {},
   "source": [
    "2. Modelo con menos unidades ocultas\n",
    "\n",
    "Se repite el experimento ahora usando otro modelo con menor número de unidades:\n",
    "- Capa de entrada de 11 unidades.\n",
    "- Capa oculta de 8 unidades con *RELU* como función de activación.\n",
    "- Capa oculta de 4 unidades con *RELU* como función de activación.\n",
    "- Capa de salida con 1 nodo de salida y función de activación sigmoide"
   ]
  },
  {
   "cell_type": "code",
   "execution_count": 111,
   "metadata": {},
   "outputs": [],
   "source": [
    "def model_less_MLP():\n",
    "    \n",
    "    \"\"\"Crea un modelo básico MLP con la siguiente estructura:\n",
    "\n",
    "        - Capa de entrada de 11 unidades.\n",
    "        - Capa oculta de 8 unidades con *RELU* como función de activación.\n",
    "        - Capa oculta de 4 unidades con *RELU* como función de activación.\n",
    "        - Capa de salida con 1 nodo de salida y función de activación sigmoide\n",
    "    \"\"\"\n",
    "    \n",
    "    model = Sequential()\n",
    "    \n",
    "    # Añadir primera capa intermedia\n",
    "    model.add(Dense(8, activation='relu', input_shape=(11,)))\n",
    "\n",
    "    # Añadir segunda capa intermedia\n",
    "    model.add(Dense(4, activation='relu'))\n",
    "    \n",
    "    # Añadir capa de salida\n",
    "    model.add(Dense(1, activation='sigmoid'))\n",
    "    \n",
    "    return model"
   ]
  },
  {
   "cell_type": "code",
   "execution_count": 112,
   "metadata": {},
   "outputs": [
    {
     "name": "stdout",
     "output_type": "stream",
     "text": [
      "Model: \"sequential_7\"\n",
      "_________________________________________________________________\n",
      "Layer (type)                 Output Shape              Param #   \n",
      "=================================================================\n",
      "dense_23 (Dense)             (None, 8)                 96        \n",
      "_________________________________________________________________\n",
      "dense_24 (Dense)             (None, 4)                 36        \n",
      "_________________________________________________________________\n",
      "dense_25 (Dense)             (None, 1)                 5         \n",
      "=================================================================\n",
      "Total params: 137\n",
      "Trainable params: 137\n",
      "Non-trainable params: 0\n",
      "_________________________________________________________________\n"
     ]
    }
   ],
   "source": [
    "# Crear el modelo y compilarlo\n",
    "model_less = model_less_MLP() # Crear modelo\n",
    "model_less.compile(loss='binary_crossentropy', optimizer='adam', metrics=['accuracy'])\n",
    "\n",
    "# Mostrar su arquitectura\n",
    "model_less.summary()"
   ]
  },
  {
   "cell_type": "markdown",
   "metadata": {},
   "source": [
    "Procedemos a entrenar nuestro modelo y a validarlo:"
   ]
  },
  {
   "cell_type": "code",
   "execution_count": 113,
   "metadata": {},
   "outputs": [
    {
     "name": "stdout",
     "output_type": "stream",
     "text": [
      "Epoch 1/20\n",
      "4352/4352 [==============================] - 25s 6ms/step - loss: 0.0982 - accuracy: 0.9766\n",
      "Epoch 2/20\n",
      "4352/4352 [==============================] - 22s 5ms/step - loss: 0.0343 - accuracy: 0.9924\n",
      "Epoch 3/20\n",
      "4352/4352 [==============================] - 25s 6ms/step - loss: 0.0279 - accuracy: 0.9931\n",
      "Epoch 4/20\n",
      "4352/4352 [==============================] - 24s 6ms/step - loss: 0.0238 - accuracy: 0.9945\n",
      "Epoch 5/20\n",
      "4352/4352 [==============================] - 24s 6ms/step - loss: 0.0214 - accuracy: 0.9949\n",
      "Epoch 6/20\n",
      "4352/4352 [==============================] - 22s 5ms/step - loss: 0.0214 - accuracy: 0.9949\n",
      "Epoch 7/20\n",
      "4352/4352 [==============================] - 21s 5ms/step - loss: 0.0180 - accuracy: 0.9966\n",
      "Epoch 8/20\n",
      "4352/4352 [==============================] - 22s 5ms/step - loss: 0.0181 - accuracy: 0.9956\n",
      "Epoch 9/20\n",
      "4352/4352 [==============================] - 24s 6ms/step - loss: 0.0177 - accuracy: 0.9970\n",
      "Epoch 10/20\n",
      "4352/4352 [==============================] - 24s 6ms/step - loss: 0.0155 - accuracy: 0.9972\n",
      "Epoch 11/20\n",
      "4352/4352 [==============================] - 22s 5ms/step - loss: 0.0158 - accuracy: 0.9970\n",
      "Epoch 12/20\n",
      "4352/4352 [==============================] - 22s 5ms/step - loss: 0.0148 - accuracy: 0.9972\n",
      "Epoch 13/20\n",
      "4352/4352 [==============================] - 20s 5ms/step - loss: 0.0148 - accuracy: 0.9970\n",
      "Epoch 14/20\n",
      "4352/4352 [==============================] - 23s 5ms/step - loss: 0.0134 - accuracy: 0.9975\n",
      "Epoch 15/20\n",
      "4352/4352 [==============================] - 22s 5ms/step - loss: 0.0142 - accuracy: 0.9970\n",
      "Epoch 16/20\n",
      "4352/4352 [==============================] - 24s 5ms/step - loss: 0.0131 - accuracy: 0.9972\n",
      "Epoch 17/20\n",
      "4352/4352 [==============================] - 24s 5ms/step - loss: 0.0127 - accuracy: 0.9977\n",
      "Epoch 18/20\n",
      "4352/4352 [==============================] - 21s 5ms/step - loss: 0.0126 - accuracy: 0.9970\n",
      "Epoch 19/20\n",
      "4352/4352 [==============================] - 22s 5ms/step - loss: 0.0126 - accuracy: 0.9977\n",
      "Epoch 20/20\n",
      "4352/4352 [==============================] - 20s 5ms/step - loss: 0.0121 - accuracy: 0.9979\n",
      "2145/2145 [==============================] - 0s 52us/step\n",
      "2145/2145 [==============================] - 0s 83us/step\n",
      "Loss obtenido en test: 0.029661544758489596\n",
      "Accuracy obtenido en test: 0.9953380227088928\n",
      "Matriz de confusión:\n",
      "[[1585    3]\n",
      " [   9  548]]\n",
      "Precisión del modelo: 0.9945553539019963\n",
      "Recall del modelo: 0.9838420107719928\n",
      "F1-score del modelo: 0.9891696750902527\n",
      "Métrica Cohen's kappa del modelo: 0.9853986111095354\n"
     ]
    }
   ],
   "source": [
    "# Entrenar el modelo leep\n",
    "model_less.fit(X_train, y_train, epochs=20, batch_size=1, verbose=True)\n",
    "\n",
    "# Evaluar el modelo\n",
    "y_pred = model_less.predict(X_test, verbose=True)\n",
    "y_pred = (y_pred >= 0.5).astype('int64').squeeze()\n",
    "\n",
    "score = model_deep.evaluate(X_test, y_test, verbose=True)\n",
    "\n",
    "print('Loss obtenido en test: {}'.format(score[0]))\n",
    "print('Accuracy obtenido en test: {}'.format(score[1]))\n",
    "\n",
    "# Calcular la matriz de confusión\n",
    "conf = confusion_matrix(y_test, y_pred)\n",
    "\n",
    "print('Matriz de confusión:')\n",
    "print(conf)\n",
    "\n",
    "# Precisión del modelo\n",
    "print('Precisión del modelo: {}'.format(precision_score(y_test, y_pred)))\n",
    "\n",
    "# Recall del modelo\n",
    "print('Recall del modelo: {}'.format(recall_score(y_test, y_pred)))\n",
    "\n",
    "# F1-score del modelo\n",
    "print('F1-score del modelo: {}'.format(f1_score(y_test, y_pred)))\n",
    "\n",
    "# Cohen's kappa del modelo\n",
    "print('Métrica Cohen\\'s kappa del modelo: {}'.format(cohen_kappa_score(y_test, y_pred)))"
   ]
  },
  {
   "cell_type": "markdown",
   "metadata": {},
   "source": [
    "Se aprecia que, aunque el rendimiento de este modelo también es similar al modelo original, aunque comparando la matriz de confusión de este modelo con el modelo original, se observa que este modelo clasifica incorrectamente 3 de los vinos tintos, 2 más que el modelo original."
   ]
  },
  {
   "cell_type": "markdown",
   "metadata": {},
   "source": [
    "3. Modelo con tangente hiperbólica como función de activación.\n",
    "\n",
    "Ahora, sustituiremos la función de activación *RELU* por la función tangente hiperbólica (*tanh*) y repetiremos los experimentos, comparando los resultados obtenidos con los de los anteriores modelos:"
   ]
  },
  {
   "cell_type": "code",
   "execution_count": 108,
   "metadata": {},
   "outputs": [],
   "source": [
    "def model_tanh_MLP():\n",
    "    \n",
    "    \"\"\"Crea un modelo básico MLP con la siguiente estructura:\n",
    "\n",
    "        - Capa de entrada de 11 unidades.\n",
    "        - Capa oculta de 12 unidades con tanh como función de activación.\n",
    "        - Capa oculta de 8 unidades con tanh como función de activación.\n",
    "        - Capa de salida con 1 nodo de salida y función de activación sigmoide\n",
    "    \"\"\"\n",
    "    \n",
    "    model = Sequential()\n",
    "    \n",
    "    # Añadir primera capa intermedia\n",
    "    model.add(Dense(12, activation='tanh', input_shape=(11,)))\n",
    "    \n",
    "    # Añadir segunda capa intermedia\n",
    "    model.add(Dense(8, activation='tanh'))\n",
    "    \n",
    "    # Añadir capa de salida\n",
    "    model.add(Dense(1, activation='sigmoid'))\n",
    "    \n",
    "    return model"
   ]
  },
  {
   "cell_type": "code",
   "execution_count": 109,
   "metadata": {},
   "outputs": [
    {
     "name": "stdout",
     "output_type": "stream",
     "text": [
      "Model: \"sequential_6\"\n",
      "_________________________________________________________________\n",
      "Layer (type)                 Output Shape              Param #   \n",
      "=================================================================\n",
      "dense_20 (Dense)             (None, 12)                144       \n",
      "_________________________________________________________________\n",
      "dense_21 (Dense)             (None, 8)                 104       \n",
      "_________________________________________________________________\n",
      "dense_22 (Dense)             (None, 1)                 9         \n",
      "=================================================================\n",
      "Total params: 257\n",
      "Trainable params: 257\n",
      "Non-trainable params: 0\n",
      "_________________________________________________________________\n"
     ]
    }
   ],
   "source": [
    "# Crear el modelo y compilarlo\n",
    "model_tanh = model_tanh_MLP() # Crear modelo\n",
    "model_tanh.compile(loss='binary_crossentropy', optimizer='adam', metrics=['accuracy'])\n",
    "\n",
    "# Mostrar su arquitectura\n",
    "model_tanh.summary()"
   ]
  },
  {
   "cell_type": "markdown",
   "metadata": {},
   "source": [
    "Entrenamos el modelo y lo evaluamos:"
   ]
  },
  {
   "cell_type": "code",
   "execution_count": 110,
   "metadata": {},
   "outputs": [
    {
     "name": "stdout",
     "output_type": "stream",
     "text": [
      "Epoch 1/20\n",
      "4352/4352 [==============================] - 26s 6ms/step - loss: 0.0834 - accuracy: 0.9747\n",
      "Epoch 2/20\n",
      "4352/4352 [==============================] - 25s 6ms/step - loss: 0.0245 - accuracy: 0.9943\n",
      "Epoch 3/20\n",
      "4352/4352 [==============================] - 25s 6ms/step - loss: 0.0221 - accuracy: 0.9952\n",
      "Epoch 4/20\n",
      "4352/4352 [==============================] - 24s 5ms/step - loss: 0.0199 - accuracy: 0.9952\n",
      "Epoch 5/20\n",
      "4352/4352 [==============================] - 23s 5ms/step - loss: 0.0187 - accuracy: 0.9961\n",
      "Epoch 6/20\n",
      "4352/4352 [==============================] - 25s 6ms/step - loss: 0.0178 - accuracy: 0.9961\n",
      "Epoch 7/20\n",
      "4352/4352 [==============================] - 25s 6ms/step - loss: 0.0149 - accuracy: 0.9972\n",
      "Epoch 8/20\n",
      "4352/4352 [==============================] - 25s 6ms/step - loss: 0.0142 - accuracy: 0.9972\n",
      "Epoch 9/20\n",
      "4352/4352 [==============================] - 22s 5ms/step - loss: 0.0135 - accuracy: 0.9970\n",
      "Epoch 10/20\n",
      "4352/4352 [==============================] - 25s 6ms/step - loss: 0.0126 - accuracy: 0.9972\n",
      "Epoch 11/20\n",
      "4352/4352 [==============================] - 22s 5ms/step - loss: 0.0119 - accuracy: 0.9977\n",
      "Epoch 12/20\n",
      "4352/4352 [==============================] - 22s 5ms/step - loss: 0.0111 - accuracy: 0.9982\n",
      "Epoch 13/20\n",
      "4352/4352 [==============================] - 21s 5ms/step - loss: 0.0107 - accuracy: 0.9979\n",
      "Epoch 14/20\n",
      "4352/4352 [==============================] - 22s 5ms/step - loss: 0.0101 - accuracy: 0.9982\n",
      "Epoch 15/20\n",
      "4352/4352 [==============================] - 24s 6ms/step - loss: 0.0088 - accuracy: 0.9982\n",
      "Epoch 16/20\n",
      "4352/4352 [==============================] - 26s 6ms/step - loss: 0.0087 - accuracy: 0.9977\n",
      "Epoch 17/20\n",
      "4352/4352 [==============================] - 25s 6ms/step - loss: 0.0084 - accuracy: 0.9982\n",
      "Epoch 18/20\n",
      "4352/4352 [==============================] - 26s 6ms/step - loss: 0.0074 - accuracy: 0.9984\n",
      "Epoch 19/20\n",
      "4352/4352 [==============================] - 24s 6ms/step - loss: 0.0075 - accuracy: 0.9984\n",
      "Epoch 20/20\n",
      "4352/4352 [==============================] - 26s 6ms/step - loss: 0.0080 - accuracy: 0.9982\n",
      "2145/2145 [==============================] - 0s 54us/step\n",
      "2145/2145 [==============================] - 0s 55us/step\n",
      "Loss obtenido en test: 0.02559046564349771\n",
      "Accuracy obtenido en test: 0.9953380227088928\n",
      "Matriz de confusión:\n",
      "[[1584    4]\n",
      " [   6  551]]\n",
      "Precisión del modelo: 0.9927927927927928\n",
      "Recall del modelo: 0.9892280071813285\n",
      "F1-score del modelo: 0.9910071942446043\n",
      "Métrica Cohen's kappa del modelo: 0.9878605748824258\n"
     ]
    }
   ],
   "source": [
    "# Entrenar el modelo deep\n",
    "model_tanh.fit(X_train, y_train, epochs=20, batch_size=1, verbose=True)\n",
    "\n",
    "# Evaluar el modelo\n",
    "y_pred = model_tanh.predict(X_test, verbose=True)\n",
    "y_pred = (y_pred >= 0.5).astype('int64').squeeze()\n",
    "\n",
    "score = model_tanh.evaluate(X_test, y_test, verbose=True)\n",
    "\n",
    "print('Loss obtenido en test: {}'.format(score[0]))\n",
    "print('Accuracy obtenido en test: {}'.format(score[1]))\n",
    "\n",
    "# Calcular la matriz de confusión\n",
    "conf = confusion_matrix(y_test, y_pred)\n",
    "\n",
    "print('Matriz de confusión:')\n",
    "print(conf)\n",
    "\n",
    "# Precisión del modelo\n",
    "print('Precisión del modelo: {}'.format(precision_score(y_test, y_pred)))\n",
    "\n",
    "# Recall del modelo\n",
    "print('Recall del modelo: {}'.format(recall_score(y_test, y_pred)))\n",
    "\n",
    "# F1-score del modelo\n",
    "print('F1-score del modelo: {}'.format(f1_score(y_test, y_pred)))\n",
    "\n",
    "# Cohen's kappa del modelo\n",
    "print('Métrica Cohen\\'s kappa del modelo: {}'.format(cohen_kappa_score(y_test, y_pred)))"
   ]
  },
  {
   "cell_type": "markdown",
   "metadata": {},
   "source": [
    "El modelo obtenido usando la función de activación *tanh*, también presenta un rendimiento similar a los anteriores modelos."
   ]
  }
 ],
 "metadata": {
  "kernelspec": {
   "display_name": "Python 3",
   "language": "python",
   "name": "python3"
  },
  "language_info": {
   "codemirror_mode": {
    "name": "ipython",
    "version": 3
   },
   "file_extension": ".py",
   "mimetype": "text/x-python",
   "name": "python",
   "nbconvert_exporter": "python",
   "pygments_lexer": "ipython3",
   "version": "3.6.9"
  }
 },
 "nbformat": 4,
 "nbformat_minor": 4
}
